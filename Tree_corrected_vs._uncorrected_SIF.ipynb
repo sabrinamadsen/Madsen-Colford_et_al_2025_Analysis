{
 "cells": [
  {
   "cell_type": "code",
   "execution_count": null,
   "metadata": {},
   "outputs": [],
   "source": [
    "# Code used to visualize difference between the downscaled SIF with and without the shoreline tree correction\n",
    "# Creates figure S2 of Madsen-Colford et al. 2025\n",
    "\n",
    "# *** Denotes parts of the code that should be modified by the user"
   ]
  },
  {
   "cell_type": "code",
   "execution_count": null,
   "metadata": {},
   "outputs": [],
   "source": [
    "#For actual correction see Shape_files/Toronto_tree_analysis.R \n",
    "\n",
    "import numpy as np\n",
    "import matplotlib.pyplot as plt\n",
    "import matplotlib.colors as colr\n",
    "import pandas as pd\n",
    "from scipy import optimize as opt \n",
    "from scipy import odr\n",
    "import shapefile as shp # to import outline of GTA\n",
    "from shapely import geometry # used to define a polygon for Toronto\n",
    "import netCDF4\n",
    "from netCDF4 import Dataset, date2num #for reading netCDF data files and their date (not sure if I need the later)"
   ]
  },
  {
   "cell_type": "code",
   "execution_count": null,
   "metadata": {},
   "outputs": [],
   "source": [
    "#Load in non-corrected SIF data & lat & lon\n",
    "\n",
    "#*** CHANGE PATH & FILENAME ***\n",
    "g=Dataset('C:/Users/kitty/Documents/Research/SIF/SMUrF/data/downscaled_CSIF/TROPOMI_CSIF_combined_med/V061/2018/V3/downscaled_V061_TROPO_CSIF_8d_2018185.nc')\n",
    "TROPO_sif=g.variables['daily_sif'][:]\n",
    "lons = g.variables['lon'][:]\n",
    "lats = g.variables['lat'][:]\n",
    "g.close()"
   ]
  },
  {
   "cell_type": "code",
   "execution_count": null,
   "metadata": {},
   "outputs": [],
   "source": [
    "#Load in the Toronto shape file to mask values outside of the city\n",
    "\n",
    "#*** CHANGE PATH & FILENAME ***\n",
    "sf = shp.Reader(\"C:/Users/kitty/Documents/Research/SIF/Shape_files/Toronto/Toronto_Boundary.shp\")\n",
    "#Toronto_Shape\n",
    "shape=sf.shape(0)\n",
    "#Need to partition each individual shape\n",
    "Toronto_x = np.zeros((len(shape.points),1))*np.nan #The main portion of the GTA\n",
    "Toronto_y = np.zeros((len(shape.points),1))*np.nan\n",
    "for i in range(len(shape.points)):\n",
    "    Toronto_x[i]=shape.points[i][0]\n",
    "    Toronto_y[i]=shape.points[i][1]\n",
    "    \n",
    "points=[]\n",
    "for k in range(1,len(Toronto_x)):\n",
    "    points.append(geometry.Point(Toronto_x[k],Toronto_y[k]))\n",
    "poly=geometry.Polygon([[p.x, p.y] for p in points])\n",
    "\n",
    "#Create a mask for areas outside the GTA\n",
    "GPP_mask=np.ones([553,625])*np.nan\n",
    "for i in range(0, len(lons)):\n",
    "    for j in range(0, len(lats)):\n",
    "        if poly.contains(geometry.Point([lons[i],lats[j]])):\n",
    "            GPP_mask[j,i]=1"
   ]
  },
  {
   "cell_type": "code",
   "execution_count": null,
   "metadata": {},
   "outputs": [],
   "source": [
    "#Load in corrected SIF data\n",
    "\n",
    "#*** CHANGE PATH & FILENAME ***\n",
    "g=Dataset('C:/Users/kitty/Documents/Research/SIF/SMUrF/data/downscaled_CSIF/TROPOMI_CSIF_combined_med/V061/2018/V3/downscaled_v061_TROPO_CSIF_shore_weighted_corrected_8d_2018185.nc')\n",
    "Corr_sif=g.variables['daily_sif'][:]\n",
    "Corr_lons = g.variables['lon'][:]\n",
    "Corr_lats = g.variables['lat'][:]\n",
    "g.close()"
   ]
  },
  {
   "cell_type": "code",
   "execution_count": null,
   "metadata": {},
   "outputs": [],
   "source": []
  },
  {
   "cell_type": "code",
   "execution_count": null,
   "metadata": {},
   "outputs": [],
   "source": [
    "plt.rc('font',size=24)\n",
    "fig, ax = plt.subplots(1,2,sharex=True,sharey=True,figsize=(16,6))\n",
    "#plt.figure(figsize=(10,5))\n",
    "ax[0].set_xlim(-79.63,-79.12)\n",
    "ax[0].set_ylim(43.57,43.87)\n",
    "\n",
    "\n",
    "fig0=ax[0].pcolormesh(lons,lats,TROPO_sif*GPP_mask,vmin=-0.2,vmax=1)\n",
    "#ax[0].set_clim(0,1)\n",
    "ax[0].plot(Toronto_x,Toronto_y,c='k',linestyle=':')\n",
    "ax[0].set_title('Downscaled SIF')\n",
    "    \n",
    "fig1=ax[1].pcolormesh(lons,lats,Corr_sif[::-1]*GPP_mask,vmin=-0.2,vmax=1)\n",
    "ax[1].plot(Toronto_x,Toronto_y,c='k',linestyle=':')\n",
    "ax[1].set_title('Shore-Corrected Downscaled SIF')\n",
    "\n",
    "ax[0].set_ylabel('Latitude ($^o$)')\n",
    "#ax[0].set_yticks([])\n",
    "\n",
    "ax[0].set_xlabel('Longitude ($^o$)')\n",
    "ax[1].set_xlabel('Longitude ($^o$)')\n",
    "\n",
    "ax[0].text(-79.62,43.845,'(a)',c='k')\n",
    "ax[1].text(-79.62,43.845,'(b)',c='k')\n",
    "\n",
    "cbar_ax = fig.add_axes([0.91, 0.15, 0.02, 0.7])\n",
    "cbar=fig.colorbar(fig1,cax=cbar_ax)\n",
    "cbar.set_label('SIF (mW m$^{-2}$ s$^{-1}$ nm$^{-1}$)')\n",
    "\n",
    "fig.subplots_adjust(hspace=0,wspace=0)\n",
    "\n",
    "plt.savefig('shoreline_corrected_uncorrected_fixed_SIF_DoY_185_labelled.pdf',bbox_inches='tight')\n",
    "plt.savefig('shoreline_corrected_uncorrected_fixed_SIF_DoY_185_labelled.png',bbox_inches='tight')\n",
    "plt.show()\n",
    "\n",
    "plt.figure(figsize=(10,6))\n",
    "plt.xlim(-79.63,-79.12)\n",
    "plt.ylim(43.57,43.87)\n",
    "plt.pcolormesh(lons,lats,(Corr_sif[::-1]-TROPO_sif)*GPP_mask,cmap='bwr',vmin=-0.39,vmax=0.39)\n",
    "cbar2=plt.colorbar()\n",
    "plt.plot(Toronto_x,Toronto_y,c='k',linestyle=':')\n",
    "plt.title('Corrected - Non-Corrected SIF')\n",
    "\n",
    "#cbar_ax = fig.add_axes([0.91, 0.15, 0.02, 0.7])\n",
    "#cbar=fig.colorbar(fig2,cax=cbar_ax)\n",
    "cbar2.set_label('$\\Delta$SIF (mW m$^{-2}$ s$^{-1}$ nm$^{-1}$)')\n",
    "\n",
    "plt.yticks([])\n",
    "#plt.ylabel('Latitude ($^o$)')\n",
    "\n",
    "plt.text(-79.62,43.845,'(c)',c='k')\n",
    "\n",
    "plt.xlabel('Longitude ($^o$)')\n",
    "plt.savefig('shoreline_corrected_fixed_SIF_diff_DoY_185_labelled.pdf',bbox_inches='tight')\n",
    "plt.savefig('shoreline_corrected_fixed_SIF_diff_DoY_185_labelled.png',bbox_inches='tight')\n",
    "plt.show()"
   ]
  },
  {
   "cell_type": "code",
   "execution_count": null,
   "metadata": {},
   "outputs": [],
   "source": []
  }
 ],
 "metadata": {
  "kernelspec": {
   "display_name": "Python 3",
   "language": "python",
   "name": "python3"
  },
  "language_info": {
   "codemirror_mode": {
    "name": "ipython",
    "version": 3
   },
   "file_extension": ".py",
   "mimetype": "text/x-python",
   "name": "python",
   "nbconvert_exporter": "python",
   "pygments_lexer": "ipython3",
   "version": "3.7.4"
  }
 },
 "nbformat": 4,
 "nbformat_minor": 2
}
