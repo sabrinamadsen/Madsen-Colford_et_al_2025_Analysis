{
 "cells": [
  {
   "cell_type": "code",
   "execution_count": null,
   "metadata": {},
   "outputs": [],
   "source": [
    "# This code plots figure 1 of Madsen-Colford et al. 2025: \n",
    "# Plots MODIS land cover (MCD12Q1), impervious surface area fraction (ISA) generated from the \n",
    "# Global Man-made Impervious Surface (GMIS), the Canadian Annual Crop Inventory (ACI),\n",
    "# the Southern Ontario Land Resource Information System (SOLRIS V3.0), and the \n",
    "# City of Toronto's Topographic Mapping – Impermeable Surface datasets (see 'Toronto_permeability_plot_GMIS.R'),\n",
    "# and canopy cover from the city of Toronto's Forest and Land Cover dataset.\n",
    "\n",
    "# *** denotes parts of the code the user should change"
   ]
  },
  {
   "cell_type": "code",
   "execution_count": null,
   "metadata": {},
   "outputs": [],
   "source": [
    "import numpy as np\n",
    "import matplotlib.pyplot as plt\n",
    "from PIL import Image #to read in TIFF files\n",
    "from osgeo import gdal #to find lat/lon of TIFF files\n",
    "import shapefile as shp # to import outline of GTA\n",
    "from mpl_toolkits.axes_grid1.anchored_artists import AnchoredSizeBar #for making scalebars on maps\n",
    "from netCDF4 import Dataset, date2num #for reading netCDF data files and their date (not sure if I need the later)\n",
    "import matplotlib as mpl\n",
    "from mpl_toolkits.axes_grid1.inset_locator import mark_inset\n",
    "from matplotlib.patches import Rectangle"
   ]
  },
  {
   "cell_type": "code",
   "execution_count": null,
   "metadata": {},
   "outputs": [],
   "source": [
    "# *** CHANGE PATH/FILENAME ***\n",
    "sf = shp.Reader(\"C:/Users/kitty/Documents/Research/SIF/Shape_files/Toronto/Toronto_Boundary.shp\")\n",
    "#Toronto_Shape\n",
    "shape=sf.shape(0)\n",
    "#Need to partition each individual shape\n",
    "Toronto_x = np.zeros((len(shape.points),1))*np.nan #The main portion of the GTA\n",
    "Toronto_y = np.zeros((len(shape.points),1))*np.nan\n",
    "for i in range(len(shape.points)):\n",
    "    Toronto_x[i]=shape.points[i][0]\n",
    "    Toronto_y[i]=shape.points[i][1]"
   ]
  },
  {
   "cell_type": "code",
   "execution_count": null,
   "metadata": {},
   "outputs": [],
   "source": [
    "# Load in the ISA data\n",
    "# *** CHANGE PATH/FILENAME ***\n",
    "ISA_data = Image.open(\"GMIS_Toronto_ACI_SOLRIS_2018_impervious_GTA.tif\")\n",
    "ISA_array = np.array(ISA_data)\n",
    "\n",
    "ISA_array[ISA_array<0] = np.nan #Replace anomalous ISA values (<0) with NA"
   ]
  },
  {
   "cell_type": "code",
   "execution_count": null,
   "metadata": {},
   "outputs": [],
   "source": [
    "# Create lat/lon grid for plotting from lat lon of tiff file\n",
    "# *** CHANGE PATH/FILENAME ***\n",
    "ISA = gdal.Open(\"GMIS_Toronto_ACI_SOLRIS_2018_impervious_GTA.tif\")\n",
    "\n",
    "width=ISA.RasterXSize\n",
    "height=ISA.RasterYSize\n",
    "gt = ISA.GetGeoTransform()\n",
    "\n",
    "minx = gt[0]\n",
    "miny = gt[3] + width*gt[4] + height*gt[5] \n",
    "maxx = gt[0] + width*gt[1] + height*gt[2]\n",
    "maxy = gt[3] \n",
    "\n",
    "step=gt[1]\n",
    "lon_list=np.arange(minx,maxx,step)\n",
    "lat_list=np.arange(miny,maxy,step)\n",
    "longrid=np.array([lon_list for i in range(len(lat_list))])\n",
    "latgrid=np.array([lat_list for i in range(len(lon_list))]).T[::-1]"
   ]
  },
  {
   "cell_type": "code",
   "execution_count": null,
   "metadata": {},
   "outputs": [],
   "source": [
    "#Load in land cover data and extract lat/lon\n",
    "# *** CHANGE PATH/FILENAME ***\n",
    "LC_dat=Dataset(\"C:/Users/kitty/documents/Research/SIF/SMUrF/data/MCD12Q1/V061_Adjusted_MODIS_Land_Type_2018.nc\")\n",
    "\n",
    "Land_Data=LC_dat.variables['Land_Type'][:]\n",
    "lon_data= LC_dat.variables['Longitude'][:]\n",
    "lat_data= LC_dat.variables['Latitude'][:]\n",
    "\n",
    "step=1/240\n",
    "lon_list_mod=np.arange(-80.9,-78.3,step)\n",
    "lat_list_mod=np.arange(42.4,44.7,step)\n",
    "longrid_mod=np.array([lon_list_mod for i in range(len(lat_list_mod))])\n",
    "latgrid_mod=np.array([lat_list_mod for i in range(len(lon_list_mod))]).T[::-1]"
   ]
  },
  {
   "cell_type": "code",
   "execution_count": null,
   "metadata": {},
   "outputs": [],
   "source": [
    "#Replace 0 ISA with NA to make it transparent\n",
    "ISA_array_nan=np.copy(ISA_array)\n",
    "ISA_array_nan[ISA_array_nan==0]=np.nan"
   ]
  },
  {
   "cell_type": "code",
   "execution_count": null,
   "metadata": {},
   "outputs": [],
   "source": []
  },
  {
   "cell_type": "code",
   "execution_count": null,
   "metadata": {},
   "outputs": [],
   "source": [
    "# Create a colour map for land cover\n",
    "cmap=(mpl.colors.ListedColormap(['darkslategrey','darkgreen','seagreen','limegreen','forestgreen','mediumslateblue','pink','peru','goldenrod','yellowgreen','teal','khaki','slategrey','darkorange','white','darkred','lightblue']))\n",
    "\n",
    "#Make a dictionary to call the colours for plotting land cover data & associate them with the labels\n",
    "\n",
    "col_dict = {1: 'DarkGreen',\n",
    "            2: 'lime',\n",
    "            3: 'palegreen',\n",
    "            4: 'greenyellow',\n",
    "            5: 'forestgreen',\n",
    "            6: 'mediumslateblue',\n",
    "            7: 'pink',\n",
    "            8: 'sienna',\n",
    "            9: 'peru',\n",
    "            10: 'yellow',\n",
    "            11: 'teal',\n",
    "            12: 'wheat',\n",
    "            13: 'slategrey',\n",
    "            14: 'darkorange',\n",
    "            15: 'white',\n",
    "            16: 'brown',\n",
    "            17: 'lightblue'}\n",
    "\n",
    "labels = np.array(['ENF','EBF','DNF','DBF','MF','CShr','OShr','WSav','Sav','Grs','Wet','Crp','Urb','Crp/Nat','Ice','Barren','Wtr'])\n",
    "norm_bins = np.sort([*col_dict.keys()]) + 0.5\n",
    "norm_bins = np.insert(norm_bins, 0, np.min(norm_bins) - 1.0)\n",
    "\n",
    "norm = mpl.colors.BoundaryNorm(norm_bins,len(labels),clip=True)\n",
    "\n",
    "fmt = mpl.ticker.FuncFormatter(lambda x, pos: labels[norm(x)])"
   ]
  },
  {
   "cell_type": "code",
   "execution_count": null,
   "metadata": {},
   "outputs": [],
   "source": [
    "#Set Urban land cover to NA to make it transparent (so that can see ISA underneath)\n",
    "Land_Dat_no_Urb = np.copy(Land_Data)\n",
    "Land_Dat_no_Urb[Land_Dat_no_Urb==13]=np.nan"
   ]
  },
  {
   "cell_type": "code",
   "execution_count": null,
   "metadata": {},
   "outputs": [],
   "source": []
  },
  {
   "cell_type": "code",
   "execution_count": null,
   "metadata": {},
   "outputs": [],
   "source": [
    "#Load in aggregated tree canopy data\n",
    "# *** CHANGE PATH/FILENAME ****\n",
    "f = Dataset('C:/Users/kitty/Documents/ArcGIS/Projects/Toroonto_canopy_cover/Toronto_tree_cover_percent_rasmpled.nc')\n",
    "TC_data = f.variables['tree_cover'][:]\n",
    "TC_lats = f.variables['lat'][:]\n",
    "TC_lons = f.variables['lon'][:]\n",
    "TC_data[TC_data <0] = np.nan #replace fill values with NA"
   ]
  },
  {
   "cell_type": "code",
   "execution_count": null,
   "metadata": {},
   "outputs": [],
   "source": []
  },
  {
   "cell_type": "code",
   "execution_count": null,
   "metadata": {},
   "outputs": [],
   "source": [
    "fig,ax1 = plt.subplots(figsize=(10,6))\n",
    "ax1.set_xlim(-80.8,-78.5)\n",
    "ax1.set_ylim(42.5,44.6)\n",
    "ax1.axis('scaled')\n",
    "\n",
    "isa_im=ax1.pcolormesh(longrid,latgrid,ISA_array_nan,cmap='Greys',vmin=0,vmax=100,rasterized=True)\n",
    "cbar=fig.colorbar(isa_im)\n",
    "cbar.set_label('Impervious Surface Fraction (%)')\n",
    "\n",
    "im=ax1.pcolormesh(longrid_mod,latgrid_mod,Land_Dat_no_Urb.T[::-1],cmap=cmap, norm=norm,rasterized=True)\n",
    "diff = norm_bins[1:] - norm_bins[:-1]\n",
    "tickz = norm_bins[:-1] +diff/2\n",
    "fig.colorbar(im,format=fmt,ticks=tickz)\n",
    "\n",
    "ax1.scatter(-79.9333,44.3166700,color='k') #Borden Forest\n",
    "ax1.text(-80.4,44.23,'Borden \\n Forest',c='k',weight='bold')\n",
    "ax1.scatter(-80.357376,42.710161,color='k') #Turkey Point Research Center Pine location\n",
    "ax1.text(-80.4,42.8,'TP39',c='k',weight='bold')\n",
    "ax1.scatter(-80.557731,42.635328,color='k') #Turkey Point Research Center Deciduous location\n",
    "ax1.text(-80.75,42.68,'TPD',c='k',weight='bold')\n",
    "\n",
    "ax1.plot(Toronto_x,Toronto_y,c='k',rasterized=True)\n",
    "ax1.text(-79.05,43.75,'Toronto',c='k',weight='bold')\n",
    "\n",
    "ax1.text(-79.4,43.44,'Lake Ontario',c='k',weight='bold')\n",
    "\n",
    "ax1.text(-80.75,42.45,'Lake Erie',c='k',weight='bold')\n",
    "\n",
    "scalebar = AnchoredSizeBar(ax1.transData,1/240*40,\"20 km\", loc='upper right',pad=0.25,sep=10,frameon=False,size_vertical=0.01,fontproperties=plt.rc('font',size=14,weight='bold'),color='k')\n",
    "ax1.add_artist(scalebar)\n",
    "\n",
    "#add inset on plot\n",
    "#ax1.add_patch(Rectangle((-80.05,42.35),2,0.95,facecolor='white',alpha=0.75))\n",
    "\n",
    "ax2 = fig.add_axes([0.3,0.14,0.31,0.23])\n",
    "ax2.set_xlim(-79.62,-79.13)\n",
    "ax2.set_ylim(43.57,43.85)\n",
    "ax2.axis('scaled')\n",
    "TC_im = ax2.pcolormesh(TC_lons,TC_lats,TC_data*100,cmap='Greens',vmin=0,vmax=100,rasterized=True)\n",
    "cbar_TC=fig.colorbar(TC_im)\n",
    "ax2.set_title('   Canopy Cover (%)',weight='bold')\n",
    "ax2.plot(Toronto_x+1/240,Toronto_y-1/240,c='k',rasterized=True)\n",
    "ax2.set(xticklabels=[])\n",
    "ax2.tick_params(bottom=False)\n",
    "ax2.set(yticklabels=[])\n",
    "ax2.tick_params(left=False)\n",
    "mark_inset(ax1, ax2, loc1=2, loc2=1, ec='k', linestyle='--')\n",
    "\n",
    "ax1.set_title('Southern Ontario Land Cover Type and ISA')\n",
    "ax1.set_xlabel('Longitude ($^o$)')\n",
    "ax1.set_ylabel('Latitude ($^o$)')\n",
    "\n",
    "# *** Uncomment to save figure as pdf and png CHANGE FILE NAMES/PATH ***\n",
    "plt.savefig('Land_cover_type_ISA_and_tree_cover_test.pdf',bbox_inches='tight')\n",
    "plt.savefig('Land_cover_type_ISA_and_tree_cover_test.png',bbox_inches='tight')\n",
    "fig.show()"
   ]
  },
  {
   "cell_type": "code",
   "execution_count": null,
   "metadata": {},
   "outputs": [],
   "source": []
  },
  {
   "cell_type": "code",
   "execution_count": null,
   "metadata": {},
   "outputs": [],
   "source": []
  }
 ],
 "metadata": {
  "kernelspec": {
   "display_name": "Python 3",
   "language": "python",
   "name": "python3"
  },
  "language_info": {
   "codemirror_mode": {
    "name": "ipython",
    "version": 3
   },
   "file_extension": ".py",
   "mimetype": "text/x-python",
   "name": "python",
   "nbconvert_exporter": "python",
   "pygments_lexer": "ipython3",
   "version": "3.7.4"
  }
 },
 "nbformat": 4,
 "nbformat_minor": 2
}
