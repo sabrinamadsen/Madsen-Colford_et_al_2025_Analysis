{
 "cells": [
  {
   "cell_type": "code",
   "execution_count": null,
   "metadata": {},
   "outputs": [],
   "source": [
    "# This code is used to compare the annual average GPP, Reco, and NEE fluxes from the updated UrbanVPRM and SMUrF model\n",
    "# for the year 2018 - 2021. Since these models do not capture uncertainties at annual scales, we assume the annual percent\n",
    "# uncertainty is the same as the SMUrF hourly percent uncertainty.\n",
    "\n",
    "# This code recreates supplemental figure S8 in Madsen-Colford et al. 2025\n",
    "\n",
    "#Portions of the code that should be changed by the user are denoted by *** in the comment above"
   ]
  },
  {
   "cell_type": "code",
   "execution_count": 1,
   "metadata": {},
   "outputs": [],
   "source": [
    "import numpy as np\n",
    "import matplotlib.pyplot as plt\n",
    "import csv\n",
    "import pandas as pd\n",
    "from scipy import optimize as opt \n",
    "from scipy import odr\n",
    "import shapefile as shp # to import outline of GTA\n",
    "from shapely import geometry # used to define a polygon for Toronto\n",
    "import netCDF4\n",
    "from netCDF4 import Dataset, date2num #for reading netCDF data files and their date (not sure if I need the later)"
   ]
  },
  {
   "cell_type": "code",
   "execution_count": 2,
   "metadata": {},
   "outputs": [],
   "source": [
    "# *** CHANGE YEAR, PATH NAME AND FILENAME ***\n",
    "yr=2018\n",
    "VPRM_path = 'E:/Research/UrbanVPRM/dataverse_files/GTA_V061_500m_'+str(yr)+'/' \n",
    "VPRM_fn = 'vprm_GMIS_Toronto_ACI_SOLRIS_ISA_500m_GTA_V061_'+str(yr)+'_no_PScale_adjusted_Topt_Ra_URB_parameters_fixed_gapfilled_LSWI_filtered_bilinear_PAR_block_'\n",
    "\n",
    "VPRM_data=pd.read_csv(VPRM_path+VPRM_fn+'00000001.csv').loc[:,('HoY','Index','GEE','Re')]\n",
    "\n",
    "VPRM_data2=pd.read_csv(VPRM_path+VPRM_fn+'00002501.csv').loc[:,('HoY','Index','GEE','Re')]\n",
    "VPRM_data=VPRM_data.append(VPRM_data2)\n",
    "del VPRM_data2\n",
    "\n",
    "VPRM_data2=pd.read_csv(VPRM_path+VPRM_fn+'00005001.csv').loc[:,('HoY','Index','GEE','Re')]\n",
    "VPRM_data=VPRM_data.append(VPRM_data2)\n",
    "del VPRM_data2\n",
    "\n",
    "VPRM_data2=pd.read_csv(VPRM_path+VPRM_fn+'00007501.csv').loc[:,('HoY','Index','GEE','Re')]\n",
    "VPRM_data=VPRM_data.append(VPRM_data2)\n",
    "del VPRM_data2\n",
    "\n",
    "VPRM_data2=pd.read_csv(VPRM_path+VPRM_fn+'00010001.csv').loc[:,('HoY','Index','GEE','Re')]\n",
    "VPRM_data=VPRM_data.append(VPRM_data2)\n",
    "del VPRM_data2\n",
    "\n",
    "VPRM_data2=pd.read_csv(VPRM_path+VPRM_fn+'00012501.csv').loc[:,('HoY','Index','GEE','Re')]\n",
    "VPRM_data=VPRM_data.append(VPRM_data2)\n",
    "del VPRM_data2"
   ]
  },
  {
   "cell_type": "code",
   "execution_count": 3,
   "metadata": {},
   "outputs": [],
   "source": [
    "#Load in Index, x, & y data and merge that with UrbanVPRM flux data\n",
    "# *** CHANGE EVI FILENAME ***\n",
    "VPRM_EVI=pd.read_csv(VPRM_path+'adjusted_evi_lswi_interpolated_modis_v061_qc_filtered_LSWI_filtered.csv').loc[:,('DOY','Index','x','y')]\n",
    "\n",
    "#Create a dataframe with just Index, x, & y values\n",
    "x=np.zeros(np.shape(VPRM_EVI.Index.unique()))*np.nan\n",
    "y=np.zeros(np.shape(VPRM_EVI.Index.unique()))*np.nan\n",
    "for i in range(len(VPRM_EVI.Index.unique())):\n",
    "    x[i]=VPRM_EVI.x[0+i*365]\n",
    "    y[i]=VPRM_EVI.y[0+i*365]\n",
    "    \n",
    "VPRM_xy=pd.DataFrame({'Index':VPRM_EVI.Index.unique(), 'x':x, 'y':y})\n",
    "VPRM_data=VPRM_data.merge(VPRM_xy[['Index','x','y']])\n",
    "del VPRM_EVI, VPRM_xy"
   ]
  },
  {
   "cell_type": "code",
   "execution_count": 4,
   "metadata": {},
   "outputs": [],
   "source": [
    "#Extract unique x & y values\n",
    "xvals = VPRM_data.x[VPRM_data.HoY==4800].unique()\n",
    "yvals = VPRM_data.y[VPRM_data.HoY==4800].unique()\n",
    "extent = np.min(xvals), np.max(xvals), np.min(yvals), np.max(yvals)\n",
    "\n",
    "# Rearrange the GPP and Reco data into an array\n",
    "GPP=-VPRM_data.GEE.values.reshape(len(yvals),len(xvals),8760)#8784 for leap year\n",
    "Reco=VPRM_data.Re.values.reshape(len(yvals),len(xvals),8760)"
   ]
  },
  {
   "cell_type": "code",
   "execution_count": 5,
   "metadata": {},
   "outputs": [],
   "source": [
    "#Import shapefile for the city of Toronto\n",
    "\n",
    "#*** CHANGE PATH AND FILENAME ***\n",
    "sf = shp.Reader(\"C:/Users/kitty/Documents/Research/SIF/Shape_files/Toronto/Toronto_Boundary.shp\")\n",
    "#Toronto_Shape\n",
    "shape=sf.shape(0)\n",
    "Toronto_x = np.zeros((len(shape.points),1))*np.nan\n",
    "Toronto_y = np.zeros((len(shape.points),1))*np.nan\n",
    "for i in range(len(shape.points)):\n",
    "    Toronto_x[i]=shape.points[i][0]\n",
    "    Toronto_y[i]=shape.points[i][1]\n",
    "    \n",
    "points=[]\n",
    "for k in range(1,len(Toronto_x)):\n",
    "    points.append(geometry.Point(Toronto_x[k],Toronto_y[k]))\n",
    "poly=geometry.Polygon([[p.x, p.y] for p in points])\n",
    "\n",
    "#Create a mask for areas outside of Toronto\n",
    "lons=np.ones(144)*np.nan\n",
    "lats=np.ones(96)*np.nan\n",
    "GPP_mask=np.ones([96,144])*np.nan\n",
    "for i in range(0, len(lons)):\n",
    "    for j in range(0, len(lats)):\n",
    "        if poly.contains(geometry.Point([xvals[i],yvals[j]])):\n",
    "            lons[i]=xvals[i]\n",
    "            lats[j]=yvals[j]\n",
    "            GPP_mask[j,i]=1"
   ]
  },
  {
   "cell_type": "code",
   "execution_count": 6,
   "metadata": {},
   "outputs": [],
   "source": [
    "# Apply Toronto mask to UrbanVPRM flux data\n",
    "T_VPRM_GPP=GPP*GPP_mask[:,:,np.newaxis]\n",
    "T_VPRM_Reco=Reco*GPP_mask[:,:,np.newaxis]\n",
    "T_VPRM_NEE=Reco-GPP"
   ]
  },
  {
   "cell_type": "code",
   "execution_count": 7,
   "metadata": {},
   "outputs": [],
   "source": [
    "# Take the annual average of Toronto UrbanVPRM flux data\n",
    "T_VPRM_GPP_2018_avg = np.nanmean(T_VPRM_GPP)\n",
    "T_VPRM_Reco_2018_avg = np.nanmean(T_VPRM_Reco)\n",
    "T_VPRM_NEE_2018_avg = np.nanmean(T_VPRM_NEE)"
   ]
  },
  {
   "cell_type": "code",
   "execution_count": 8,
   "metadata": {},
   "outputs": [],
   "source": [
    "del T_VPRM_GPP, T_VPRM_Reco, T_VPRM_NEE, GPP, Reco, VPRM_data"
   ]
  },
  {
   "cell_type": "code",
   "execution_count": 11,
   "metadata": {},
   "outputs": [],
   "source": [
    "del sf, shape, points, poly"
   ]
  },
  {
   "cell_type": "code",
   "execution_count": 16,
   "metadata": {},
   "outputs": [],
   "source": []
  },
  {
   "cell_type": "code",
   "execution_count": 12,
   "metadata": {},
   "outputs": [
    {
     "name": "stderr",
     "output_type": "stream",
     "text": [
      "C:\\Users\\kitty\\Anaconda3\\lib\\site-packages\\ipykernel_launcher.py:65: RuntimeWarning: Mean of empty slice\n",
      "C:\\Users\\kitty\\Anaconda3\\lib\\site-packages\\numpy\\lib\\nanfunctions.py:1628: RuntimeWarning: Degrees of freedom <= 0 for slice.\n",
      "  keepdims=keepdims)\n"
     ]
    }
   ],
   "source": [
    "#now bring in the SMUrF data\n",
    "\n",
    "# *** CHANGE PATH ***\n",
    "SMUrF_path = 'C:/Users/kitty/Documents/Research/SIF/SMUrF/output2018_500m_CSIF_to_TROPOMI_CSIF_ALL_converted_slps_V3_temp_impervious_R_shore_corr_V061_8day/easternCONUS/'\n",
    "# *** CHANGE FILE NAME ***\n",
    "SMUrF_fn = 'daily_mean_Reco_ISA_a_neuralnet/era5/2018/daily_mean_Reco_uncert_GMIS_Toronto_t_easternCONUS_2018' #Filename WITHOUT month or day\n",
    "\n",
    "g=Dataset(SMUrF_path+SMUrF_fn+'0101.nc')\n",
    "start_of_year=g.variables['time'][0]/3600/24-1 #convert seconds since 1970 to days (minus one)\n",
    "\n",
    "g.close()\n",
    "\n",
    "#With ISA adjustment using GMIS-Toronto-SOLRIS-ACI dataset\n",
    "S_time_2018=[]\n",
    "S_Reco=[]\n",
    "S_Reco_err=[]\n",
    "S_lats_8day=[]\n",
    "S_lons_8day=[]\n",
    "for j in range(1,13):\n",
    "    for i in range(1,32):\n",
    "        try:\n",
    "            if j<10:\n",
    "                if i<10:\n",
    "                    f=Dataset(SMUrF_path+SMUrF_fn+'0'+str(j)+'0'+str(i)+'.nc')\n",
    "                else:\n",
    "                    f=Dataset(SMUrF_path+SMUrF_fn+'0'+str(j)+str(i)+'.nc')\n",
    "            else:\n",
    "                if i<10:\n",
    "                    f=Dataset(SMUrF_path+SMUrF_fn+str(j)+'0'+str(i)+'.nc')\n",
    "                else:\n",
    "                    f=Dataset(SMUrF_path+SMUrF_fn+str(j)+str(i)+'.nc')\n",
    "            if len(S_time_2018)==0:\n",
    "                S_lats_8day=f.variables['lat'][:]\n",
    "                S_lons_8day=f.variables['lon'][:]\n",
    "                S_Reco=f.variables['Reco_mean'][:]\n",
    "                S_Reco_err=f.variables['Reco_sd'][:]\n",
    "                S_time_2018=f.variables['time'][:]/24/3600-start_of_year-5/24 #convert seconds since 1970 to days and subtract start of year\n",
    "            else:\n",
    "                S_Reco=np.concatenate((S_Reco,f.variables['Reco_mean'][:]),axis=0)\n",
    "                S_Reco_err=np.concatenate((S_Reco_err,f.variables['Reco_sd'][:]),axis=0)\n",
    "                S_time_2018=np.concatenate((S_time_2018,(f.variables['time'][:]/24/3600-start_of_year-5/24)),axis=0)\n",
    "            f.close()\n",
    "        except FileNotFoundError:\n",
    "            pass\n",
    "        \n",
    "#Load in SMUrF GPP data\n",
    "# *** CHANGE GPP FILENAME ***\n",
    "f=Dataset(SMUrF_path+'daily_mean_SIF_GPP_uncert_easternCONUS_2018.nc')\n",
    "S_time_8day_2018=f.variables['time'][:]/24/3600-start_of_year-5/24 #convert seconds since 1970 to days and subtract start of year\n",
    "\n",
    "S_GPP_err_8day=f.variables['GPP_sd'][:]\n",
    "S_GPP_8day=f.variables['GPP_mean'][:]\n",
    "\n",
    "# Replace fill values with NaN\n",
    "S_Reco[S_Reco==-999]=np.nan\n",
    "S_Reco_err[S_Reco_err==-999]=np.nan\n",
    "S_GPP_8day[S_GPP_8day==-999]=np.nan\n",
    "S_GPP_err_8day[S_GPP_err_8day==-999]=np.nan\n",
    "\n",
    "# Take 8-day average of Reco data to match temporal resolution of GPP\n",
    "S_Reco_8day=np.ones(np.shape(S_GPP_8day))*np.nan\n",
    "S_Reco_err_8day=np.ones(np.shape(S_GPP_8day))*np.nan\n",
    "S_Reco_std_8day=np.ones(np.shape(S_GPP_8day))*np.nan\n",
    "for i in range(len(S_time_8day_2018)):\n",
    "    S_Reco_8day[i]=np.nanmean(S_Reco[i*8:i*8+8],axis=0)\n",
    "    S_Reco_err_8day[i]=np.sqrt(np.nansum((S_Reco_err[i*8:i*8+8]/4)**2,axis=0))\n",
    "    S_Reco_std_8day[i]=np.nanstd(S_Reco[i*8:i*8+8],axis=0)\n",
    "\n",
    "#Compute 8day resolution NEE data\n",
    "S_NEE_8day=S_Reco_8day-S_GPP_8day\n",
    "S_NEE_err_8day=np.sqrt(S_Reco_err_8day**2+S_GPP_err_8day**2)\n",
    "\n",
    "# Select data only over Toronto\n",
    "T_S_GPP_2018=S_GPP_8day[:,264:360,288:432][:,::-1]*GPP_mask[np.newaxis,:,:]\n",
    "T_S_Reco_2018=S_Reco_8day[:,264:360,288:432][:,::-1]*GPP_mask[np.newaxis,:,:]\n",
    "T_S_NEE_2018=S_NEE_8day[:,264:360,288:432][:,::-1]*GPP_mask[np.newaxis,:,:]\n",
    "\n",
    "T_S_GPP_err_2018=S_GPP_err_8day[:,264:360,288:432][:,::-1]*GPP_mask[np.newaxis,:,:]\n",
    "T_S_Reco_err_2018=S_Reco_err_8day[:,264:360,288:432][:,::-1]*GPP_mask[np.newaxis,:,:]\n",
    "T_S_NEE_err_2018=S_NEE_err_8day[:,264:360,288:432][:,::-1]*GPP_mask[np.newaxis,:,:]"
   ]
  },
  {
   "cell_type": "code",
   "execution_count": 13,
   "metadata": {},
   "outputs": [
    {
     "name": "stderr",
     "output_type": "stream",
     "text": [
      "C:\\Users\\kitty\\Anaconda3\\lib\\site-packages\\ipykernel_launcher.py:8: RuntimeWarning: invalid value encountered in true_divide\n",
      "  \n"
     ]
    }
   ],
   "source": [
    "# Take the annual average of SMUrF fluxes over Toronto\n",
    "\n",
    "T_S_GPP_2018_avg = np.nanmean(T_S_GPP_2018)\n",
    "T_S_Reco_2018_avg = np.nanmean(T_S_Reco_2018)\n",
    "T_S_NEE_2018_avg = np.nanmean(T_S_NEE_2018)\n",
    "\n",
    "T_S_GPP_2018_err_perc_avg = np.nanmean(T_S_GPP_err_2018/T_S_GPP_2018)\n",
    "T_S_Reco_2018_err_perc_avg = np.nanmean(T_S_Reco_err_2018/T_S_Reco_2018)\n",
    "T_S_NEE_2018_err_perc_avg = np.nanmean(T_S_NEE_err_2018/T_S_NEE_2018)"
   ]
  },
  {
   "cell_type": "code",
   "execution_count": 14,
   "metadata": {},
   "outputs": [],
   "source": [
    "del T_S_GPP_2018, T_S_Reco_2018, T_S_NEE_2018, S_GPP_8day, S_Reco_8day, S_NEE_8day, T_S_GPP_err_2018, T_S_Reco_err_2018, T_S_NEE_err_2018, S_NEE_err_8day, S_GPP_err_8day, S_Reco_err_8day"
   ]
  },
  {
   "cell_type": "code",
   "execution_count": 15,
   "metadata": {},
   "outputs": [],
   "source": [
    "del S_Reco, S_Reco_err, S_Reco_std_8day, S_lats_8day, S_lons_8day, S_time_2018, S_time_8day_2018"
   ]
  },
  {
   "cell_type": "code",
   "execution_count": null,
   "metadata": {},
   "outputs": [],
   "source": []
  },
  {
   "cell_type": "code",
   "execution_count": 16,
   "metadata": {},
   "outputs": [],
   "source": [
    "# *** CHANGE YEAR, PATH NAME AND FILENAME ***\n",
    "yr=2019\n",
    "VPRM_path = 'E:/Research/UrbanVPRM/dataverse_files/GTA_V061_500m_'+str(yr)+'/'\n",
    "VPRM_fn = 'vprm_GMIS_Toronto_ACI_SOLRIS_ISA_500m_GTA_V061_'+str(yr)+'_no_PScale_adjusted_Topt_Ra_URB_parameters_fixed_gapfilled_LSWI_filtered_bilinear_PAR_block_'\n",
    "\n",
    "VPRM_data=pd.read_csv(VPRM_path+VPRM_fn+'00000001.csv').loc[:,('HoY','Index','GEE','Re')]\n",
    "\n",
    "VPRM_data2=pd.read_csv(VPRM_path+VPRM_fn+'00002501.csv').loc[:,('HoY','Index','GEE','Re')]\n",
    "VPRM_data=VPRM_data.append(VPRM_data2)\n",
    "del VPRM_data2\n",
    "\n",
    "VPRM_data2=pd.read_csv(VPRM_path+VPRM_fn+'00005001.csv').loc[:,('HoY','Index','GEE','Re')]\n",
    "VPRM_data=VPRM_data.append(VPRM_data2)\n",
    "del VPRM_data2\n",
    "\n",
    "VPRM_data2=pd.read_csv(VPRM_path+VPRM_fn+'00007501.csv').loc[:,('HoY','Index','GEE','Re')]\n",
    "VPRM_data=VPRM_data.append(VPRM_data2)\n",
    "del VPRM_data2\n",
    "\n",
    "VPRM_data2=pd.read_csv(VPRM_path+VPRM_fn+'00010001.csv').loc[:,('HoY','Index','GEE','Re')]\n",
    "VPRM_data=VPRM_data.append(VPRM_data2)\n",
    "del VPRM_data2\n",
    "\n",
    "VPRM_data2=pd.read_csv(VPRM_path+VPRM_fn+'00012501.csv').loc[:,('HoY','Index','GEE','Re')]\n",
    "VPRM_data=VPRM_data.append(VPRM_data2)\n",
    "del VPRM_data2"
   ]
  },
  {
   "cell_type": "code",
   "execution_count": 17,
   "metadata": {},
   "outputs": [],
   "source": [
    "GPP=-VPRM_data.GEE.values.reshape(len(yvals),len(xvals),8760)#8784 for leap year\n",
    "Reco=VPRM_data.Re.values.reshape(len(yvals),len(xvals),8760)\n",
    "\n",
    "T_VPRM_GPP=GPP*GPP_mask[:,:,np.newaxis]\n",
    "T_VPRM_Reco=Reco*GPP_mask[:,:,np.newaxis]\n",
    "T_VPRM_NEE=Reco-GPP\n",
    "\n",
    "T_VPRM_GPP_2019_avg = np.nanmean(T_VPRM_GPP)\n",
    "T_VPRM_Reco_2019_avg = np.nanmean(T_VPRM_Reco)\n",
    "T_VPRM_NEE_2019_avg = np.nanmean(T_VPRM_NEE)"
   ]
  },
  {
   "cell_type": "code",
   "execution_count": 18,
   "metadata": {},
   "outputs": [],
   "source": [
    "del T_VPRM_GPP, T_VPRM_Reco, T_VPRM_NEE, GPP, Reco, VPRM_data"
   ]
  },
  {
   "cell_type": "code",
   "execution_count": null,
   "metadata": {},
   "outputs": [],
   "source": []
  },
  {
   "cell_type": "code",
   "execution_count": null,
   "metadata": {},
   "outputs": [],
   "source": []
  },
  {
   "cell_type": "code",
   "execution_count": 19,
   "metadata": {},
   "outputs": [
    {
     "name": "stderr",
     "output_type": "stream",
     "text": [
      "C:\\Users\\kitty\\Anaconda3\\lib\\site-packages\\ipykernel_launcher.py:64: RuntimeWarning: Mean of empty slice\n",
      "C:\\Users\\kitty\\Anaconda3\\lib\\site-packages\\ipykernel_launcher.py:88: RuntimeWarning: invalid value encountered in true_divide\n"
     ]
    }
   ],
   "source": [
    "#now bring in the SMUrF data\n",
    "\n",
    "# *** CHANGE PATH ***\n",
    "SMUrF_path = 'E:/Research/SMUrF/output2019_500m_CSIF_to_TROPOMI_CSIF_ALL_converted_slps_V3_temp_impervious_R_shore_corr_V061_8day/easternCONUS/'\n",
    "# *** CHANGE FILE NAME ***\n",
    "SMUrF_fn = 'daily_mean_Reco_ISA_a_neuralnet/era5/2019/daily_mean_Reco_uncert_GMIS_Toronto_easternCONUS_2019' #Filename WITHOUT month or day\n",
    "\n",
    "g=Dataset(SMUrF_path+SMUrF_fn+'0101.nc')\n",
    "start_of_year=g.variables['time'][0]/3600/24-1 #convert seconds since 1970 to days (minus one)\n",
    "\n",
    "g.close()\n",
    "\n",
    "#With ISA adjustment using GMIS-Toronto-SOLRIS-ACI dataset\n",
    "S_time_2019=[]\n",
    "S_Reco=[]\n",
    "S_Reco_err=[]\n",
    "S_lats_8day=[]\n",
    "S_lons_8day=[]\n",
    "for j in range(1,13):\n",
    "    for i in range(1,32):\n",
    "        try:\n",
    "            if j<10:\n",
    "                if i<10:\n",
    "                    f=Dataset(SMUrF_path+SMUrF_fn+'0'+str(j)+'0'+str(i)+'.nc')\n",
    "                else:\n",
    "                    f=Dataset(SMUrF_path+SMUrF_fn+'0'+str(j)+str(i)+'.nc')\n",
    "            else:\n",
    "                if i<10:\n",
    "                    f=Dataset(SMUrF_path+SMUrF_fn+str(j)+'0'+str(i)+'.nc')\n",
    "                else:\n",
    "                    f=Dataset(SMUrF_path+SMUrF_fn+str(j)+str(i)+'.nc')\n",
    "            if len(S_time_2019)==0:\n",
    "                S_lats_8day=f.variables['lat'][:]\n",
    "                S_lons_8day=f.variables['lon'][:]\n",
    "                S_Reco=f.variables['Reco_mean'][:]\n",
    "                S_Reco_err=f.variables['Reco_sd'][:]\n",
    "                S_time_2019=f.variables['time'][:]/24/3600-start_of_year-5/24 #convert seconds since 1970 to days and subtract start of year\n",
    "            else:\n",
    "                S_Reco=np.concatenate((S_Reco,f.variables['Reco_mean'][:]),axis=0)\n",
    "                S_Reco_err=np.concatenate((S_Reco_err,f.variables['Reco_sd'][:]),axis=0)\n",
    "                S_time_2019=np.concatenate((S_time_2019,(f.variables['time'][:]/24/3600-start_of_year-5/24)),axis=0)\n",
    "            f.close()\n",
    "        except FileNotFoundError:\n",
    "            pass\n",
    "        \n",
    "#Load in SMUrF GPP data\n",
    "f=Dataset(SMUrF_path+'daily_mean_SIF_GPP_uncert_easternCONUS_2019.nc')\n",
    "S_time_8day_2019=f.variables['time'][:]/24/3600-start_of_year-5/24 #convert seconds since 1970 to days and subtract start of year\n",
    "\n",
    "S_GPP_err_8day=f.variables['GPP_sd'][:]\n",
    "S_GPP_8day=f.variables['GPP_mean'][:]\n",
    "\n",
    "# Replace fill values with NaN\n",
    "S_Reco[S_Reco==-999]=np.nan\n",
    "S_Reco_err[S_Reco_err==-999]=np.nan\n",
    "S_GPP_8day[S_GPP_8day==-999]=np.nan\n",
    "S_GPP_err_8day[S_GPP_err_8day==-999]=np.nan\n",
    "\n",
    "# Take 8-day average of Reco data to match temporal resolution of GPP\n",
    "S_Reco_8day=np.ones(np.shape(S_GPP_8day))*np.nan\n",
    "S_Reco_err_8day=np.ones(np.shape(S_GPP_8day))*np.nan\n",
    "S_Reco_std_8day=np.ones(np.shape(S_GPP_8day))*np.nan\n",
    "for i in range(len(S_time_8day_2019)):\n",
    "    S_Reco_8day[i]=np.nanmean(S_Reco[i*8:i*8+8],axis=0)\n",
    "    S_Reco_err_8day[i]=np.sqrt(np.nansum((S_Reco_err[i*8:i*8+8]/4)**2,axis=0))\n",
    "    S_Reco_std_8day[i]=np.nanstd(S_Reco[i*8:i*8+8],axis=0)\n",
    "\n",
    "#Compute 8day resolution NEE data\n",
    "S_NEE_8day=S_Reco_8day-S_GPP_8day\n",
    "S_NEE_err_8day=np.sqrt(S_Reco_err_8day**2+S_GPP_err_8day**2)\n",
    "\n",
    "# Select data only over Toronto\n",
    "T_S_GPP_2019=S_GPP_8day[:,264:360,288:432][:,::-1]*GPP_mask[np.newaxis,:,:]\n",
    "T_S_Reco_2019=S_Reco_8day[:,264:360,288:432][:,::-1]*GPP_mask[np.newaxis,:,:]\n",
    "T_S_NEE_2019=S_NEE_8day[:,264:360,288:432][:,::-1]*GPP_mask[np.newaxis,:,:]\n",
    "\n",
    "T_S_GPP_err_2019=S_GPP_err_8day[:,264:360,288:432][:,::-1]*GPP_mask[np.newaxis,:,:]\n",
    "T_S_Reco_err_2019=S_Reco_err_8day[:,264:360,288:432][:,::-1]*GPP_mask[np.newaxis,:,:]\n",
    "T_S_NEE_err_2019=S_NEE_err_8day[:,264:360,288:432][:,::-1]*GPP_mask[np.newaxis,:,:]\n",
    "\n",
    "# Take the annual average of SMUrF fluxes over Toronto\n",
    "\n",
    "T_S_GPP_2019_avg = np.nanmean(T_S_GPP_2019)\n",
    "T_S_Reco_2019_avg = np.nanmean(T_S_Reco_2019)\n",
    "T_S_NEE_2019_avg = np.nanmean(T_S_NEE_2019)\n",
    "\n",
    "T_S_GPP_2019_err_perc_avg = np.nanmean(T_S_GPP_err_2019/T_S_GPP_2019)\n",
    "T_S_Reco_2019_err_perc_avg = np.nanmean(T_S_Reco_err_2019/T_S_Reco_2019)\n",
    "T_S_NEE_2019_err_perc_avg = np.nanmean(T_S_NEE_err_2019/T_S_NEE_2019)\n",
    "\n",
    "del T_S_GPP_2019, T_S_Reco_2019, T_S_NEE_2019, S_GPP_8day, S_Reco_8day, S_NEE_8day, T_S_GPP_err_2019, T_S_Reco_err_2019, T_S_NEE_err_2019, S_NEE_err_8day, S_GPP_err_8day, S_Reco_err_8day\n",
    "del S_Reco, S_Reco_err, S_Reco_std_8day, S_lats_8day, S_lons_8day, S_time_2019, S_time_8day_2019"
   ]
  },
  {
   "cell_type": "code",
   "execution_count": null,
   "metadata": {},
   "outputs": [],
   "source": []
  },
  {
   "cell_type": "code",
   "execution_count": 20,
   "metadata": {},
   "outputs": [],
   "source": [
    "# *** CHANGE YEAR, PATH NAME AND FILENAME ***\n",
    "yr=2020\n",
    "VPRM_path = 'E:/Research/UrbanVPRM/dataverse_files/GTA_V061_500m_'+str(yr)+'/'\n",
    "VPRM_fn = 'vprm_GMIS_Toronto_ACI_SOLRIS_ISA_500m_GTA_V061_'+str(yr)+'_no_PScale_adjusted_Topt_Ra_URB_parameters_fixed_gapfilled_LSWI_filtered_bilinear_PAR_block_'\n",
    "\n",
    "VPRM_data=pd.read_csv(VPRM_path+VPRM_fn+'00000001.csv').loc[:,('HoY','Index','GEE','Re')]\n",
    "\n",
    "VPRM_data2=pd.read_csv(VPRM_path+VPRM_fn+'00002501.csv').loc[:,('HoY','Index','GEE','Re')]\n",
    "VPRM_data=VPRM_data.append(VPRM_data2)\n",
    "del VPRM_data2\n",
    "\n",
    "VPRM_data2=pd.read_csv(VPRM_path+VPRM_fn+'00005001.csv').loc[:,('HoY','Index','GEE','Re')]\n",
    "VPRM_data=VPRM_data.append(VPRM_data2)\n",
    "del VPRM_data2\n",
    "\n",
    "VPRM_data2=pd.read_csv(VPRM_path+VPRM_fn+'00007501.csv').loc[:,('HoY','Index','GEE','Re')]\n",
    "VPRM_data=VPRM_data.append(VPRM_data2)\n",
    "del VPRM_data2\n",
    "\n",
    "VPRM_data2=pd.read_csv(VPRM_path+VPRM_fn+'00010001.csv').loc[:,('HoY','Index','GEE','Re')]\n",
    "VPRM_data=VPRM_data.append(VPRM_data2)\n",
    "del VPRM_data2\n",
    "\n",
    "VPRM_data2=pd.read_csv(VPRM_path+VPRM_fn+'00012501.csv').loc[:,('HoY','Index','GEE','Re')]\n",
    "VPRM_data=VPRM_data.append(VPRM_data2)\n",
    "del VPRM_data2"
   ]
  },
  {
   "cell_type": "code",
   "execution_count": 21,
   "metadata": {},
   "outputs": [],
   "source": [
    "GPP=-VPRM_data.GEE.values.reshape(len(yvals),len(xvals),8784)#8784 for leap year\n",
    "Reco=VPRM_data.Re.values.reshape(len(yvals),len(xvals),8784)\n",
    "\n",
    "T_VPRM_GPP=GPP*GPP_mask[:,:,np.newaxis]\n",
    "T_VPRM_Reco=Reco*GPP_mask[:,:,np.newaxis]\n",
    "T_VPRM_NEE=Reco-GPP\n",
    "\n",
    "T_VPRM_GPP_2020_avg = np.nanmean(T_VPRM_GPP)\n",
    "T_VPRM_Reco_2020_avg = np.nanmean(T_VPRM_Reco)\n",
    "T_VPRM_NEE_2020_avg = np.nanmean(T_VPRM_NEE)"
   ]
  },
  {
   "cell_type": "code",
   "execution_count": 22,
   "metadata": {},
   "outputs": [],
   "source": [
    "T_VPRM_GPP_2020_std_err = np.nanstd(T_VPRM_GPP)/np.sqrt(np.sum(np.isnan(T_VPRM_GPP)==False))\n",
    "T_VPRM_Reco_2020_std_err = np.nanstd(T_VPRM_Reco)/np.sqrt(np.sum(np.isnan(T_VPRM_GPP)==False))\n",
    "T_VPRM_NEE_2020_std_err = np.nanstd(T_VPRM_NEE)/np.sqrt(np.sum(np.isnan(T_VPRM_GPP)==False))\n",
    "\n",
    "T_VPRM_GPP_2020_std = np.nanstd(T_VPRM_GPP)\n",
    "T_VPRM_Reco_2020_std = np.nanstd(T_VPRM_Reco)\n",
    "T_VPRM_NEE_2020_std = np.nanstd(T_VPRM_NEE)"
   ]
  },
  {
   "cell_type": "code",
   "execution_count": 23,
   "metadata": {},
   "outputs": [],
   "source": [
    "del T_VPRM_GPP, T_VPRM_Reco, T_VPRM_NEE, GPP, Reco, VPRM_data"
   ]
  },
  {
   "cell_type": "code",
   "execution_count": null,
   "metadata": {},
   "outputs": [],
   "source": []
  },
  {
   "cell_type": "code",
   "execution_count": 26,
   "metadata": {},
   "outputs": [
    {
     "name": "stderr",
     "output_type": "stream",
     "text": [
      "C:\\Users\\kitty\\Anaconda3\\lib\\site-packages\\ipykernel_launcher.py:64: RuntimeWarning: Mean of empty slice\n"
     ]
    }
   ],
   "source": [
    "#now bring in the 2020 SMUrF data\n",
    "# *** CHANGE PATH ***\n",
    "SMUrF_path = 'E:/Research/SMUrF/output2020_500m_CSIF_to_TROPOMI_CSIF_ALL_converted_slps_temp_impervious_R_V061_8day/easternCONUS/'\n",
    "# *** CHANGE FILENAME ***\n",
    "SMUrF_fn = 'daily_mean_Reco_ISA_a_neuralnet/era5/2020/daily_mean_Reco_uncert_GMIS_Toronto_fixed_border_easternCONUS_2020' #Filename WITHOUT month or day\n",
    "\n",
    "\n",
    "g=Dataset(SMUrF_path+SMUrF_fn+'0101.nc')\n",
    "start_of_year=g.variables['time'][0]/3600/24-1 #convert seconds since 1970 to days (minus one)\n",
    "g.close()\n",
    "\n",
    "\n",
    "\n",
    "#With ISA adjustment using GMIS-Toronto-SOLRIS-ACI dataset\n",
    "S_time_2020=[]\n",
    "S_Reco=[]\n",
    "S_Reco_err=[]\n",
    "S_lats_8day=[]\n",
    "S_lons_8day=[]\n",
    "for j in range(1,13):\n",
    "    for i in range(1,32):\n",
    "        try:\n",
    "            if j<10:\n",
    "                if i<10:\n",
    "                    f=Dataset(SMUrF_path+SMUrF_fn+'0'+str(j)+'0'+str(i)+'.nc')\n",
    "                else:\n",
    "                    f=Dataset(SMUrF_path+SMUrF_fn+'0'+str(j)+str(i)+'.nc')                \n",
    "            else:\n",
    "                if i<10:\n",
    "                    f=Dataset(SMUrF_path+SMUrF_fn+str(j)+'0'+str(i)+'.nc') \n",
    "                else:\n",
    "                    f=Dataset(SMUrF_path+SMUrF_fn+str(j)+str(i)+'.nc')\n",
    "            if len(S_time_2020)==0:\n",
    "                S_lats_8day=f.variables['lat'][:]\n",
    "                S_lons_8day=f.variables['lon'][:]\n",
    "                S_Reco=f.variables['Reco_mean'][:]\n",
    "                S_Reco_err=f.variables['Reco_sd'][:]\n",
    "                S_time_2020=f.variables['time'][:]/24/3600-start_of_year-5/24 #convert seconds since 1970 to days and subtract start of year\n",
    "            else:\n",
    "                S_Reco=np.concatenate((S_Reco,f.variables['Reco_mean'][:]),axis=0)\n",
    "                S_Reco_err=np.concatenate((S_Reco_err,f.variables['Reco_sd'][:]),axis=0)\n",
    "                S_time_2020=np.concatenate((S_time_2020,(f.variables['time'][:]/24/3600-start_of_year-5/24)),axis=0)\n",
    "            f.close()\n",
    "        except FileNotFoundError:\n",
    "            pass\n",
    "        \n",
    "#If on external harddrive\n",
    "#*** CHANGE GPP FILENAME ***\n",
    "f=Dataset(SMUrF_path+'/daily_mean_SIF_GPP_uncert_easternCONUS_2020.nc')\n",
    "S_time_8day_2020=f.variables['time'][:]/24/3600-start_of_year-5/24 #convert seconds since 1970 to days and subtract start of year\n",
    "\n",
    "S_GPP_err_8day_2020=f.variables['GPP_sd'][:]\n",
    "S_GPP_8day_2020=f.variables['GPP_mean'][:]\n",
    "\n",
    "S_Reco[S_Reco==-999]=np.nan\n",
    "S_Reco_err[S_Reco_err==-999]=np.nan\n",
    "S_GPP_8day_2020[S_GPP_8day_2020==-999]=np.nan\n",
    "S_GPP_err_8day_2020[S_GPP_err_8day_2020==-999]=np.nan\n",
    "\n",
    "S_Reco_8day_2020=np.ones(np.shape(S_GPP_8day_2020))*np.nan\n",
    "S_Reco_err_8day_2020=np.ones(np.shape(S_GPP_8day_2020))*np.nan\n",
    "S_Reco_std_8day_2020=np.ones(np.shape(S_GPP_8day_2020))*np.nan\n",
    "for i in range(len(S_time_8day_2020)):\n",
    "    S_Reco_8day_2020[i]=np.nanmean(S_Reco[i*8:i*8+8],axis=0)\n",
    "    S_Reco_err_8day_2020[i]=np.sqrt(np.nansum((S_Reco_err[i*8:i*8+8]/4)**2,axis=0))\n",
    "    S_Reco_std_8day_2020[i]=np.nanstd(S_Reco[i*8:i*8+8],axis=0)\n",
    "    \n",
    "S_NEE_8day_2020=S_Reco_8day_2020-S_GPP_8day_2020\n",
    "S_NEE_err_8day_2020=np.sqrt(S_Reco_err_8day_2020**2+S_GPP_err_8day_2020**2)"
   ]
  },
  {
   "cell_type": "code",
   "execution_count": 27,
   "metadata": {},
   "outputs": [
    {
     "name": "stderr",
     "output_type": "stream",
     "text": [
      "C:\\Users\\kitty\\Anaconda3\\lib\\site-packages\\ipykernel_launcher.py:14: RuntimeWarning: invalid value encountered in true_divide\n",
      "  \n"
     ]
    }
   ],
   "source": [
    "T_S_GPP_2020=S_GPP_8day_2020[:,264:360,288:432][:,::-1]*GPP_mask[np.newaxis,:,:]\n",
    "T_S_Reco_2020=S_Reco_8day_2020[:,264:360,288:432][:,::-1]*GPP_mask[np.newaxis,:,:]\n",
    "T_S_NEE_2020=S_NEE_8day_2020[:,264:360,288:432][:,::-1]*GPP_mask[np.newaxis,:,:]\n",
    "\n",
    "T_S_GPP_err_2020=S_GPP_err_8day_2020[:,264:360,288:432][:,::-1]*GPP_mask[np.newaxis,:,:]\n",
    "T_S_Reco_err_2020=S_Reco_err_8day_2020[:,264:360,288:432][:,::-1]*GPP_mask[np.newaxis,:,:]\n",
    "T_S_NEE_err_2020=S_NEE_err_8day_2020[:,264:360,288:432][:,::-1]*GPP_mask[np.newaxis,:,:]\n",
    "\n",
    "T_S_GPP_2020_avg = np.nanmean(T_S_GPP_2020)\n",
    "T_S_Reco_2020_avg = np.nanmean(T_S_Reco_2020)\n",
    "T_S_NEE_2020_avg = np.nanmean(T_S_NEE_2020)\n",
    "\n",
    "T_S_GPP_2020_err_perc_avg = np.nanmean(T_S_GPP_err_2020/T_S_GPP_2020)\n",
    "T_S_Reco_2020_err_perc_avg = np.nanmean(T_S_Reco_err_2020/T_S_Reco_2020)\n",
    "T_S_NEE_2020_err_perc_avg = np.nanmean(T_S_NEE_err_2020/T_S_NEE_2020)"
   ]
  },
  {
   "cell_type": "code",
   "execution_count": 28,
   "metadata": {},
   "outputs": [],
   "source": [
    "del T_S_GPP_2020, T_S_Reco_2020, T_S_NEE_2020, S_GPP_8day_2020, S_Reco_8day_2020, S_NEE_8day_2020, T_S_GPP_err_2020, T_S_Reco_err_2020, T_S_NEE_err_2020, S_NEE_err_8day_2020, S_GPP_err_8day_2020, S_Reco_err_8day_2020"
   ]
  },
  {
   "cell_type": "code",
   "execution_count": 29,
   "metadata": {},
   "outputs": [],
   "source": [
    "del S_lats_8day, S_lons_8day, S_time_2020, S_time_8day_2020"
   ]
  },
  {
   "cell_type": "code",
   "execution_count": null,
   "metadata": {},
   "outputs": [],
   "source": []
  },
  {
   "cell_type": "code",
   "execution_count": 30,
   "metadata": {},
   "outputs": [],
   "source": [
    "yr=2021\n",
    "VPRM_path = 'E:/Research/UrbanVPRM/dataverse_files/GTA_V061_500m_'+str(yr)+'/'\n",
    "VPRM_fn = 'vprm_GMIS_Toronto_ACI_SOLRIS_ISA_500m_GTA_V061_'+str(yr)+'_no_PScale_adjusted_Topt_Ra_URB_parameters_fixed_gapfilled_LSWI_QA_fixed_filtered_bilinear_PAR_block_'\n",
    "\n",
    "VPRM_data=pd.read_csv(VPRM_path+VPRM_fn+'00000001.csv').loc[:,('HoY','Index','GEE','Re')]\n",
    "\n",
    "VPRM_data2=pd.read_csv(VPRM_path+VPRM_fn+'00002501.csv').loc[:,('HoY','Index','GEE','Re')]\n",
    "VPRM_data=VPRM_data.append(VPRM_data2)\n",
    "del VPRM_data2\n",
    "\n",
    "VPRM_data2=pd.read_csv(VPRM_path+VPRM_fn+'00005001.csv').loc[:,('HoY','Index','GEE','Re')]\n",
    "VPRM_data=VPRM_data.append(VPRM_data2)\n",
    "del VPRM_data2\n",
    "\n",
    "VPRM_data2=pd.read_csv(VPRM_path+VPRM_fn+'00007501.csv').loc[:,('HoY','Index','GEE','Re')]\n",
    "VPRM_data=VPRM_data.append(VPRM_data2)\n",
    "del VPRM_data2\n",
    "\n",
    "VPRM_data2=pd.read_csv(VPRM_path+VPRM_fn+'00010001.csv').loc[:,('HoY','Index','GEE','Re')]\n",
    "VPRM_data=VPRM_data.append(VPRM_data2)\n",
    "del VPRM_data2\n",
    "\n",
    "VPRM_data2=pd.read_csv(VPRM_path+VPRM_fn+'00012501.csv').loc[:,('HoY','Index','GEE','Re')]\n",
    "VPRM_data=VPRM_data.append(VPRM_data2)\n",
    "del VPRM_data2"
   ]
  },
  {
   "cell_type": "code",
   "execution_count": 31,
   "metadata": {},
   "outputs": [],
   "source": [
    "GPP=-VPRM_data.GEE.values.reshape(len(yvals),len(xvals),8760)#8784 for leap year\n",
    "Reco=VPRM_data.Re.values.reshape(len(yvals),len(xvals),8760)\n",
    "\n",
    "T_VPRM_GPP=GPP*GPP_mask[:,:,np.newaxis]\n",
    "T_VPRM_Reco=Reco*GPP_mask[:,:,np.newaxis]\n",
    "T_VPRM_NEE=Reco-GPP\n",
    "\n",
    "T_VPRM_GPP_2021_avg = np.nanmean(T_VPRM_GPP)\n",
    "T_VPRM_Reco_2021_avg = np.nanmean(T_VPRM_Reco)\n",
    "T_VPRM_NEE_2021_avg = np.nanmean(T_VPRM_NEE)"
   ]
  },
  {
   "cell_type": "code",
   "execution_count": 32,
   "metadata": {},
   "outputs": [],
   "source": [
    "T_VPRM_GPP_2021_std_err = np.nanstd(T_VPRM_GPP)/np.sqrt(np.sum(np.isnan(T_VPRM_GPP)==False))\n",
    "T_VPRM_Reco_2021_std_err = np.nanstd(T_VPRM_Reco)/np.sqrt(np.sum(np.isnan(T_VPRM_GPP)==False))\n",
    "T_VPRM_NEE_2021_std_err = np.nanstd(T_VPRM_NEE)/np.sqrt(np.sum(np.isnan(T_VPRM_GPP)==False))\n",
    "\n",
    "T_VPRM_GPP_2021_std = np.nanstd(T_VPRM_GPP)\n",
    "T_VPRM_Reco_2021_std = np.nanstd(T_VPRM_Reco)\n",
    "T_VPRM_NEE_2021_std = np.nanstd(T_VPRM_NEE)"
   ]
  },
  {
   "cell_type": "code",
   "execution_count": 33,
   "metadata": {},
   "outputs": [],
   "source": [
    "del T_VPRM_GPP, T_VPRM_Reco, T_VPRM_NEE, GPP, Reco, VPRM_data"
   ]
  },
  {
   "cell_type": "code",
   "execution_count": null,
   "metadata": {},
   "outputs": [],
   "source": []
  },
  {
   "cell_type": "code",
   "execution_count": 34,
   "metadata": {},
   "outputs": [
    {
     "name": "stderr",
     "output_type": "stream",
     "text": [
      "C:\\Users\\kitty\\Anaconda3\\lib\\site-packages\\ipykernel_launcher.py:62: RuntimeWarning: Mean of empty slice\n"
     ]
    }
   ],
   "source": [
    "#now bring in the 2021 SMUrF data\n",
    "# *** CHANGE PATH ***\n",
    "SMUrF_path = 'E:/Research/SMUrF/output2021_500m_CSIF_to_TROPOMI_CSIF_ALL_converted_slps_temp_impervious_R_V061_8day/easternCONUS/'\n",
    "# *** CHANGE FILENAME ***\n",
    "SMUrF_fn = 'daily_mean_Reco_ISA_a_neuralnet/era5/2021/daily_mean_Reco_uncert_GMIS_Toronto_fixed_border_easternCONUS_2021' #Filename WITHOUT month or day\n",
    "\n",
    "g=Dataset(SMUrF_path+SMUrF_fn+'0101.nc')\n",
    "#g=Dataset('E:/Research/SMUrF/output2021_CSIF_temp_8day/easternCONUS/daily_mean_Reco_neuralnet/era5/2021/daily_mean_Reco_uncert_easternCONUS_20210101.nc')\n",
    "start_of_year=g.variables['time'][0]/3600/24-1 #convert seconds since 1970 to days (minus one)\n",
    "\n",
    "g.close()\n",
    "\n",
    "#With ISA adjustment using GMIS-Toronto-SOLRIS-ACI dataset\n",
    "S_time_2021=[]\n",
    "S_Reco=[]\n",
    "S_Reco_err=[]\n",
    "S_lats_8day=[]\n",
    "S_lons_8day=[]\n",
    "for j in range(1,13):\n",
    "    for i in range(1,32):\n",
    "        try:\n",
    "            if j<10:\n",
    "                if i<10:\n",
    "                    f=Dataset(SMUrF_path+SMUrF_fn+'0'+str(j)+'0'+str(i)+'.nc')\n",
    "                else:\n",
    "                    f=Dataset(SMUrF_path+SMUrF_fn+'0'+str(j)+str(i)+'.nc')\n",
    "            else:\n",
    "                if i<10:\n",
    "                    f=Dataset(SMUrF_path+SMUrF_fn+str(j)+'0'+str(i)+'.nc')\n",
    "                else:\n",
    "                    f=Dataset(SMUrF_path+SMUrF_fn+str(j)+str(i)+'.nc')\n",
    "            if len(S_time_2021)==0:\n",
    "                S_lats_8day=f.variables['lat'][:]\n",
    "                S_lons_8day=f.variables['lon'][:]\n",
    "                S_Reco=f.variables['Reco_mean'][:]\n",
    "                S_Reco_err=f.variables['Reco_sd'][:]\n",
    "                S_time_2021=f.variables['time'][:]/24/3600-start_of_year-5/24 #convert seconds since 1970 to days and subtract start of year\n",
    "            else:\n",
    "                S_Reco=np.concatenate((S_Reco,f.variables['Reco_mean'][:]),axis=0)\n",
    "                S_Reco_err=np.concatenate((S_Reco_err,f.variables['Reco_sd'][:]),axis=0)\n",
    "                S_time_2021=np.concatenate((S_time_2021,(f.variables['time'][:]/24/3600-start_of_year-5/24)),axis=0)\n",
    "            f.close()\n",
    "        except FileNotFoundError:\n",
    "            pass\n",
    "        \n",
    "# *** CHANGE GPP FILENAME ***\n",
    "f=Dataset(SMUrF_path+'daily_mean_SIF_GPP_uncert_easternCONUS_2021.nc')\n",
    "S_time_8day_2021=f.variables['time'][:]/24/3600-start_of_year-5/24 #convert seconds since 1970 to days and subtract start of year\n",
    "\n",
    "S_GPP_err_8day_2021=f.variables['GPP_sd'][:]\n",
    "S_GPP_8day_2021=f.variables['GPP_mean'][:]\n",
    "\n",
    "S_Reco[S_Reco==-999]=np.nan\n",
    "S_Reco_err[S_Reco_err==-999]=np.nan\n",
    "S_GPP_8day_2021[S_GPP_8day_2021==-999]=np.nan\n",
    "S_GPP_err_8day_2021[S_GPP_err_8day_2021==-999]=np.nan\n",
    "\n",
    "S_Reco_8day_2021=np.ones(np.shape(S_GPP_8day_2021))*np.nan\n",
    "S_Reco_err_8day_2021=np.ones(np.shape(S_GPP_8day_2021))*np.nan\n",
    "S_Reco_std_8day_2021=np.ones(np.shape(S_GPP_8day_2021))*np.nan\n",
    "for i in range(len(S_time_8day_2021)):\n",
    "    S_Reco_8day_2021[i]=np.nanmean(S_Reco[i*8:i*8+8],axis=0)\n",
    "    S_Reco_err_8day_2021[i]=np.sqrt(np.nansum((S_Reco_err[i*8:i*8+8]/4)**2,axis=0))\n",
    "    S_Reco_std_8day_2021[i]=np.nanstd(S_Reco[i*8:i*8+8],axis=0)\n",
    "    \n",
    "S_NEE_8day_2021=S_Reco_8day_2021-S_GPP_8day_2021\n",
    "S_NEE_err_8day_2021=np.sqrt(S_Reco_err_8day_2021**2+S_GPP_err_8day_2021**2)"
   ]
  },
  {
   "cell_type": "code",
   "execution_count": null,
   "metadata": {},
   "outputs": [],
   "source": []
  },
  {
   "cell_type": "code",
   "execution_count": 35,
   "metadata": {},
   "outputs": [
    {
     "name": "stderr",
     "output_type": "stream",
     "text": [
      "C:\\Users\\kitty\\Anaconda3\\lib\\site-packages\\ipykernel_launcher.py:22: RuntimeWarning: invalid value encountered in true_divide\n"
     ]
    }
   ],
   "source": [
    "T_S_GPP_2021=S_GPP_8day_2021[:,264:360,288:432][:,::-1]*GPP_mask[np.newaxis,:,:]\n",
    "T_S_Reco_2021=S_Reco_8day_2021[:,264:360,288:432][:,::-1]*GPP_mask[np.newaxis,:,:]\n",
    "T_S_NEE_2021=S_NEE_8day_2021[:,264:360,288:432][:,::-1]*GPP_mask[np.newaxis,:,:]\n",
    "\n",
    "T_S_GPP_err_2021=S_GPP_err_8day_2021[:,264:360,288:432][:,::-1]*GPP_mask[np.newaxis,:,:]\n",
    "T_S_Reco_err_2021=S_Reco_err_8day_2021[:,264:360,288:432][:,::-1]*GPP_mask[np.newaxis,:,:]\n",
    "T_S_NEE_err_2021=S_NEE_err_8day_2021[:,264:360,288:432][:,::-1]*GPP_mask[np.newaxis,:,:]\n",
    "\n",
    "T_S_GPP_2021_avg = np.nanmean(T_S_GPP_2021)\n",
    "T_S_Reco_2021_avg = np.nanmean(T_S_Reco_2021)\n",
    "T_S_NEE_2021_avg = np.nanmean(T_S_NEE_2021)\n",
    "\n",
    "T_S_GPP_2021_avg_err = np.sqrt(np.nansum(T_S_GPP_err_2021**2))/np.sum(np.isnan(T_S_GPP_err_2021)==False)\n",
    "T_S_Reco_2021_avg_err = np.sqrt(np.nansum(T_S_Reco_err_2021**2))/np.sum(np.isnan(T_S_Reco_err_2021)==False)\n",
    "T_S_NEE_2021_avg_err = np.sqrt(np.nansum(T_S_NEE_err_2021**2))/np.sum(np.isnan(T_S_NEE_err_2021)==False)\n",
    "\n",
    "T_S_GPP_2021_err_avg = np.nanmean(T_S_GPP_err_2021)\n",
    "T_S_Reco_2021_err_avg = np.nanmean(T_S_Reco_err_2021)\n",
    "T_S_NEE_2021_err_avg = np.nanmean(T_S_NEE_err_2021)\n",
    "\n",
    "T_S_GPP_2021_err_perc_avg = np.nanmean(T_S_GPP_err_2021/T_S_GPP_2021)\n",
    "T_S_Reco_2021_err_perc_avg = np.nanmean(T_S_Reco_err_2021/T_S_Reco_2021)\n",
    "T_S_NEE_2021_err_perc_avg = np.nanmean(T_S_NEE_err_2021/T_S_NEE_2021)"
   ]
  },
  {
   "cell_type": "code",
   "execution_count": 36,
   "metadata": {},
   "outputs": [],
   "source": [
    "T_S_GPP_2021_std_err = np.nanstd(T_S_GPP_2021)/np.sqrt(np.sum(np.isnan(T_S_GPP_2021)==False))\n",
    "T_S_Reco_2021_std_err = np.nanstd(T_S_Reco_2021)/np.sqrt(np.sum(np.isnan(T_S_GPP_2021)==False))\n",
    "T_S_NEE_2021_std_err = np.nanstd(T_S_NEE_2021)/np.sqrt(np.sum(np.isnan(T_S_GPP_2021)==False))\n",
    "\n",
    "T_S_GPP_2021_std = np.nanstd(T_S_GPP_2021)\n",
    "T_S_Reco_2021_std = np.nanstd(T_S_Reco_2021)\n",
    "T_S_NEE_2021_std = np.nanstd(T_S_NEE_2021)"
   ]
  },
  {
   "cell_type": "code",
   "execution_count": 37,
   "metadata": {},
   "outputs": [],
   "source": [
    "del T_S_GPP_2021, T_S_Reco_2021, T_S_NEE_2021, S_GPP_8day_2021, S_Reco_8day_2021, S_NEE_8day_2021, T_S_GPP_err_2021, T_S_Reco_err_2021, T_S_NEE_err_2021, S_NEE_err_8day_2021, S_GPP_err_8day_2021, S_Reco_err_8day_2021"
   ]
  },
  {
   "cell_type": "code",
   "execution_count": 38,
   "metadata": {},
   "outputs": [],
   "source": [
    "del S_lats_8day, S_lons_8day, S_time_2021, S_time_8day_2021"
   ]
  },
  {
   "cell_type": "code",
   "execution_count": null,
   "metadata": {},
   "outputs": [],
   "source": []
  },
  {
   "cell_type": "code",
   "execution_count": 39,
   "metadata": {},
   "outputs": [],
   "source": [
    "years=np.arange(2018,2022)\n",
    "S_annual_avg_GPP=[T_S_GPP_2018_avg,T_S_GPP_2019_avg,T_S_GPP_2020_avg,T_S_GPP_2021_avg]\n",
    "S_annual_avg_Reco=[T_S_Reco_2018_avg,T_S_Reco_2019_avg,T_S_Reco_2020_avg,T_S_Reco_2021_avg]\n",
    "S_annual_avg_NEE=[T_S_NEE_2018_avg,T_S_NEE_2019_avg,T_S_NEE_2020_avg,T_S_NEE_2021_avg]\n",
    "\n",
    "VPRM_annual_avg_GPP=[T_VPRM_GPP_2018_avg,T_VPRM_GPP_2019_avg,T_VPRM_GPP_2020_avg,T_VPRM_GPP_2021_avg]\n",
    "VPRM_annual_avg_Reco=[T_VPRM_Reco_2018_avg,T_VPRM_Reco_2019_avg,T_VPRM_Reco_2020_avg,T_VPRM_Reco_2021_avg]\n",
    "VPRM_annual_avg_NEE=[T_VPRM_NEE_2018_avg,T_VPRM_NEE_2019_avg,T_VPRM_NEE_2020_avg,T_VPRM_NEE_2021_avg]"
   ]
  },
  {
   "cell_type": "code",
   "execution_count": 40,
   "metadata": {},
   "outputs": [],
   "source": [
    "S_annual_avg_perc_err_GPP=[T_S_GPP_2018_err_perc_avg,T_S_GPP_2019_err_perc_avg,T_S_GPP_2020_err_perc_avg,T_S_GPP_2021_err_perc_avg]\n",
    "S_annual_avg_perc_err_Reco=[T_S_Reco_2018_err_perc_avg,T_S_Reco_2019_err_perc_avg,T_S_Reco_2020_err_perc_avg,T_S_Reco_2021_err_perc_avg]\n",
    "S_annual_avg_perc_err_NEE=[T_S_NEE_2018_err_perc_avg,T_S_NEE_2019_err_perc_avg,T_S_NEE_2020_err_perc_avg,T_S_NEE_2021_err_perc_avg]"
   ]
  },
  {
   "cell_type": "code",
   "execution_count": 41,
   "metadata": {},
   "outputs": [
    {
     "data": {
      "image/png": "[encoded data removed]",
      "text/plain": [
       "<Figure size 432x288 with 1 Axes>"
      ]
     },
     "metadata": {
      "needs_background": "light"
     },
     "output_type": "display_data"
    }
   ],
   "source": [
    "plt.rc('font',size=14)\n",
    "\n",
    "plt.figure()\n",
    "plt.xlim(2017.9,2021.1)\n",
    "plt.xticks(range(2018,2022))\n",
    "plt.errorbar(years+0.03, S_annual_avg_GPP,abs(np.array(S_annual_avg_perc_err_GPP)*np.array(S_annual_avg_GPP)),marker='s',c='tab:blue',capsize=5)\n",
    "plt.errorbar(years-0.03,VPRM_annual_avg_GPP,abs(np.array(S_annual_avg_perc_err_GPP)*np.array(VPRM_annual_avg_GPP)),linestyle='--',marker='^',c='tab:blue',capsize=5)\n",
    "plt.errorbar(years+0.03, S_annual_avg_Reco,abs(np.array(S_annual_avg_perc_err_Reco)*np.array(S_annual_avg_Reco)),marker='s',c='tab:orange',capsize=5)\n",
    "plt.errorbar(years-0.03,VPRM_annual_avg_Reco,abs(np.array(S_annual_avg_perc_err_Reco)*np.array(VPRM_annual_avg_Reco)),linestyle='--',marker='^',c='tab:orange',capsize=5)\n",
    "plt.errorbar(years+0.03, np.abs(S_annual_avg_NEE),abs(np.array(S_annual_avg_perc_err_NEE)*np.array(S_annual_avg_NEE)),marker='s',c='tab:green',capsize=5)\n",
    "plt.errorbar(years-0.03,np.abs(VPRM_annual_avg_NEE),abs(np.array(S_annual_avg_perc_err_NEE)*np.array(VPRM_annual_avg_NEE)),linestyle='--',marker='^',c='tab:green',capsize=5)\n",
    "\n",
    "plt.plot([0],[0],c='k',marker='s',label='SMUrF')\n",
    "plt.plot([0],[0],c='k',linestyle='--',marker='^',label='UrbanVPRM')\n",
    "plt.scatter([0],[0],c='tab:blue',label='  GPP')\n",
    "plt.scatter([0],[0],c='tab:orange',label='  R$_{eco}$')\n",
    "plt.scatter([0],[0],c='tab:green',label='$-$ NEE')\n",
    "plt.legend(bbox_to_anchor=(1,1))\n",
    "plt.xlabel('Year')\n",
    "plt.ylabel('Biogenic fluxes ($\\mu$mol m$^{-2}$ s$^{-1}$)')\n",
    "plt.title('Annual modelled fluxes from SMUrF and VPRM')\n",
    "\n",
    "# Uncomment below to save as .pdf and .png *** CHANGE PATHS & FILENAMES ***\n",
    "#plt.savefig('SMUrF_VPRM_fixed_avg_interannual_avg_variability_SMUrF_avg_SMUrF_perc_err_w_lines.pdf',bbox_inches='tight')\n",
    "#plt.savefig('SMUrF_VPRM_fixed_avg_interannual_avg_variability_SMUrF_avg_SMUrF_perc_err_w_lines.png',bbox_inches='tight')\n",
    "plt.show()"
   ]
  },
  {
   "cell_type": "code",
   "execution_count": null,
   "metadata": {},
   "outputs": [],
   "source": []
  }
 ],
 "metadata": {
  "kernelspec": {
   "display_name": "Python 3",
   "language": "python",
   "name": "python3"
  },
  "language_info": {
   "codemirror_mode": {
    "name": "ipython",
    "version": 3
   },
   "file_extension": ".py",
   "mimetype": "text/x-python",
   "name": "python",
   "nbconvert_exporter": "python",
   "pygments_lexer": "ipython3",
   "version": "3.7.4"
  }
 },
 "nbformat": 4,
 "nbformat_minor": 2
}
